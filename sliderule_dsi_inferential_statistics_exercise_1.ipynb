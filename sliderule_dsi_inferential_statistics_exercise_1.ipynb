{
 "cells": [
  {
   "cell_type": "markdown",
   "metadata": {},
   "source": [
    "# What is the True Normal Human Body Temperature? \n",
    "\n",
    "#### Background\n",
    "\n",
    "The mean normal body temperature was held to be 37$^{\\circ}$C or 98.6$^{\\circ}$F for more than 120 years since it was first conceptualized and reported by Carl Wunderlich in a famous 1868 book. But, is this value statistically correct?"
   ]
  },
  {
   "cell_type": "markdown",
   "metadata": {},
   "source": [
    "<h3>Exercises</h3>\n",
    "\n",
    "<p>In this exercise, you will analyze a dataset of human body temperatures and employ the concepts of hypothesis testing, confidence intervals, and statistical significance.</p>\n",
    "\n",
    "<p>Answer the following questions <b>in this notebook below and submit to your Github account</b>.</p> \n",
    "\n",
    "<ol>\n",
    "<li>  Is the distribution of body temperatures normal? \n",
    "    <ul>\n",
    "    <li> Although this is not a requirement for the Central Limit Theorem to hold (read the introduction on Wikipedia's page about the CLT carefully: https://en.wikipedia.org/wiki/Central_limit_theorem), it gives us some peace of mind that the population may also be normally distributed if we assume that this sample is representative of the population.\n",
    "    <li> Think about the way you're going to check for the normality of the distribution. Graphical methods are usually used first, but there are also other ways: https://en.wikipedia.org/wiki/Normality_test\n",
    "    </ul>\n",
    "<li>  Is the sample size large? Are the observations independent?\n",
    "    <ul>\n",
    "    <li> Remember that this is a condition for the Central Limit Theorem, and hence the statistical tests we are using, to apply.\n",
    "    </ul>\n",
    "<li>  Is the true population mean really 98.6 degrees F?\n",
    "    <ul>\n",
    "    <li> First, try a bootstrap hypothesis test.\n",
    "    <li> Now, let's try frequentist statistical testing. Would you use a one-sample or two-sample test? Why?\n",
    "    <li> In this situation, is it appropriate to use the $t$ or $z$ statistic? \n",
    "    <li> Now try using the other test. How is the result be different? Why?\n",
    "    </ul>\n",
    "<li>  Draw a small sample of size 10 from the data and repeat both frequentist tests. \n",
    "    <ul>\n",
    "    <li> Which one is the correct one to use? \n",
    "    <li> What do you notice? What does this tell you about the difference in application of the $t$ and $z$ statistic?\n",
    "    </ul>\n",
    "<li>  At what temperature should we consider someone's temperature to be \"abnormal\"?\n",
    "    <ul>\n",
    "    <li> As in the previous example, try calculating everything using the boostrap approach, as well as the frequentist approach.\n",
    "    <li> Start by computing the margin of error and confidence interval. When calculating the confidence interval, keep in mind that you should use the appropriate formula for one draw, and not N draws.\n",
    "    </ul>\n",
    "<li>  Is there a significant difference between males and females in normal temperature?\n",
    "    <ul>\n",
    "    <li> What testing approach did you use and why?\n",
    "    <li> Write a story with your conclusion in the context of the original problem.\n",
    "    </ul>\n",
    "</ol>\n",
    "\n",
    "You can include written notes in notebook cells using Markdown: \n",
    "   - In the control panel at the top, choose Cell > Cell Type > Markdown\n",
    "   - Markdown syntax: http://nestacms.com/docs/creating-content/markdown-cheat-sheet\n",
    "\n",
    "#### Resources\n",
    "\n",
    "+ Information and data sources: http://www.amstat.org/publications/jse/datasets/normtemp.txt, http://www.amstat.org/publications/jse/jse_data_archive.htm\n",
    "+ Markdown syntax: http://nestacms.com/docs/creating-content/markdown-cheat-sheet\n",
    "\n",
    "****"
   ]
  },
  {
   "cell_type": "code",
   "execution_count": 41,
   "metadata": {},
   "outputs": [],
   "source": [
    "import pandas as pd\n",
    "\n",
    "df = pd.read_csv('data/human_body_temperature.csv')"
   ]
  },
  {
   "cell_type": "code",
   "execution_count": 42,
   "metadata": {},
   "outputs": [
    {
     "data": {
      "text/html": [
       "<div>\n",
       "<style scoped>\n",
       "    .dataframe tbody tr th:only-of-type {\n",
       "        vertical-align: middle;\n",
       "    }\n",
       "\n",
       "    .dataframe tbody tr th {\n",
       "        vertical-align: top;\n",
       "    }\n",
       "\n",
       "    .dataframe thead th {\n",
       "        text-align: right;\n",
       "    }\n",
       "</style>\n",
       "<table border=\"1\" class=\"dataframe\">\n",
       "  <thead>\n",
       "    <tr style=\"text-align: right;\">\n",
       "      <th></th>\n",
       "      <th>temperature</th>\n",
       "      <th>gender</th>\n",
       "      <th>heart_rate</th>\n",
       "    </tr>\n",
       "  </thead>\n",
       "  <tbody>\n",
       "    <tr>\n",
       "      <th>0</th>\n",
       "      <td>99.3</td>\n",
       "      <td>F</td>\n",
       "      <td>68.0</td>\n",
       "    </tr>\n",
       "    <tr>\n",
       "      <th>1</th>\n",
       "      <td>98.4</td>\n",
       "      <td>F</td>\n",
       "      <td>81.0</td>\n",
       "    </tr>\n",
       "    <tr>\n",
       "      <th>2</th>\n",
       "      <td>97.8</td>\n",
       "      <td>M</td>\n",
       "      <td>73.0</td>\n",
       "    </tr>\n",
       "    <tr>\n",
       "      <th>3</th>\n",
       "      <td>99.2</td>\n",
       "      <td>F</td>\n",
       "      <td>66.0</td>\n",
       "    </tr>\n",
       "    <tr>\n",
       "      <th>4</th>\n",
       "      <td>98.0</td>\n",
       "      <td>F</td>\n",
       "      <td>73.0</td>\n",
       "    </tr>\n",
       "  </tbody>\n",
       "</table>\n",
       "</div>"
      ],
      "text/plain": [
       "   temperature gender  heart_rate\n",
       "0         99.3      F        68.0\n",
       "1         98.4      F        81.0\n",
       "2         97.8      M        73.0\n",
       "3         99.2      F        66.0\n",
       "4         98.0      F        73.0"
      ]
     },
     "execution_count": 42,
     "metadata": {},
     "output_type": "execute_result"
    }
   ],
   "source": [
    "# Your work here.\n",
    "df.head()"
   ]
  },
  {
   "cell_type": "markdown",
   "metadata": {},
   "source": [
    " ## 1. Is the Distribution of Body Temperatures approximately normal?"
   ]
  },
  {
   "cell_type": "code",
   "execution_count": 43,
   "metadata": {
    "scrolled": true
   },
   "outputs": [
    {
     "data": {
      "image/png": "[encoded data removed]",
      "text/plain": [
       "<matplotlib.figure.Figure at 0x19d77f7f898>"
      ]
     },
     "metadata": {},
     "output_type": "display_data"
    }
   ],
   "source": [
    "import matplotlib.pyplot as plt\n",
    "\n",
    "plt.hist(df['temperature'])\n",
    "plt.title('Body Temperature')\n",
    "plt.xlabel('Value')\n",
    "plt.ylabel('Frequency')\n",
    "\n",
    "plt.show()\n"
   ]
  },
  {
   "cell_type": "code",
   "execution_count": 44,
   "metadata": {},
   "outputs": [
    {
     "data": {
      "image/png": "[encoded data removed]",
      "text/plain": [
       "<matplotlib.figure.Figure at 0x19d74f71780>"
      ]
     },
     "metadata": {},
     "output_type": "display_data"
    }
   ],
   "source": [
    "men = df.loc[df['gender'] == 'M']\n",
    "women = df.loc[df['gender'] == 'F']\n",
    "\n",
    "plt.hist(men['temperature'], alpha = .5, label = 'Men')\n",
    "plt.hist(women['temperature'], alpha = .5, label = 'Women')\n",
    "plt.title('Body Temperature')\n",
    "plt.xlabel('Value')\n",
    "plt.ylabel('Frequency')\n",
    "plt.legend(loc='upper right')\n",
    "\n",
    "plt.show()"
   ]
  },
  {
   "cell_type": "markdown",
   "metadata": {},
   "source": [
    "It is unclear whether the distribution is normal from our histogram alone. The distribution shows an approximately normal shape, but there does also appear to be a second mode in the right tail. \n",
    "\n",
    "When we color our histogram by sex we see that this long right tails is comprised mostly of Female body temperatures, with the male distribution exhibiting a more normal shape.\n",
    "\n",
    "We will perform a Shapiro-Wilk test to determine whether normality exists under a more objective standard.\n",
    "\n",
    "We are testing the null hypothesis that our data is sampled from a population that has a normal distribution at alpha level .05:"
   ]
  },
  {
   "cell_type": "code",
   "execution_count": 45,
   "metadata": {},
   "outputs": [],
   "source": [
    "import scipy.stats\n",
    "import plotly.plotly as py"
   ]
  },
  {
   "cell_type": "code",
   "execution_count": 46,
   "metadata": {},
   "outputs": [
    {
     "data": {
      "text/html": [
       "<div>\n",
       "<style scoped>\n",
       "    .dataframe tbody tr th:only-of-type {\n",
       "        vertical-align: middle;\n",
       "    }\n",
       "\n",
       "    .dataframe tbody tr th {\n",
       "        vertical-align: top;\n",
       "    }\n",
       "\n",
       "    .dataframe thead th {\n",
       "        text-align: right;\n",
       "    }\n",
       "</style>\n",
       "<table border=\"1\" class=\"dataframe\">\n",
       "  <thead>\n",
       "    <tr style=\"text-align: right;\">\n",
       "      <th></th>\n",
       "      <th>P-Value</th>\n",
       "      <th>Samples</th>\n",
       "      <th>Test Statistic</th>\n",
       "    </tr>\n",
       "  </thead>\n",
       "  <tbody>\n",
       "    <tr>\n",
       "      <th>0</th>\n",
       "      <td>0.233168</td>\n",
       "      <td>129</td>\n",
       "      <td>0.986577</td>\n",
       "    </tr>\n",
       "  </tbody>\n",
       "</table>\n",
       "</div>"
      ],
      "text/plain": [
       "    P-Value  Samples  Test Statistic\n",
       "0  0.233168      129        0.986577"
      ]
     },
     "execution_count": 46,
     "metadata": {},
     "output_type": "execute_result"
    }
   ],
   "source": [
    "#test for all data\n",
    "shapiro_results = scipy.stats.shapiro(df['temperature'])\n",
    "\n",
    "summaryDf = pd.DataFrame({'Samples': len(df['temperature']) - 1, \\\n",
    "                          'Test Statistic':shapiro_results[0], \\\n",
    "                          'P-Value': shapiro_results[1]}, index = [0])\n",
    "\n",
    "summaryDf"
   ]
  },
  {
   "cell_type": "code",
   "execution_count": 47,
   "metadata": {},
   "outputs": [
    {
     "data": {
      "text/html": [
       "<div>\n",
       "<style scoped>\n",
       "    .dataframe tbody tr th:only-of-type {\n",
       "        vertical-align: middle;\n",
       "    }\n",
       "\n",
       "    .dataframe tbody tr th {\n",
       "        vertical-align: top;\n",
       "    }\n",
       "\n",
       "    .dataframe thead th {\n",
       "        text-align: right;\n",
       "    }\n",
       "</style>\n",
       "<table border=\"1\" class=\"dataframe\">\n",
       "  <thead>\n",
       "    <tr style=\"text-align: right;\">\n",
       "      <th></th>\n",
       "      <th>P-Value</th>\n",
       "      <th>Samples</th>\n",
       "      <th>Test Statistic</th>\n",
       "    </tr>\n",
       "  </thead>\n",
       "  <tbody>\n",
       "    <tr>\n",
       "      <th>0</th>\n",
       "      <td>0.854517</td>\n",
       "      <td>64</td>\n",
       "      <td>0.989407</td>\n",
       "    </tr>\n",
       "  </tbody>\n",
       "</table>\n",
       "</div>"
      ],
      "text/plain": [
       "    P-Value  Samples  Test Statistic\n",
       "0  0.854517       64        0.989407"
      ]
     },
     "execution_count": 47,
     "metadata": {},
     "output_type": "execute_result"
    }
   ],
   "source": [
    "#test for men\n",
    "shapiro_results = scipy.stats.shapiro(men['temperature'])\n",
    "\n",
    "summaryDf = pd.DataFrame({'Samples': len(men['temperature']) - 1, \\\n",
    "                          'Test Statistic':shapiro_results[0], \\\n",
    "                          'P-Value': shapiro_results[1]}, index = [0])\n",
    "\n",
    "summaryDf"
   ]
  },
  {
   "cell_type": "code",
   "execution_count": 48,
   "metadata": {},
   "outputs": [
    {
     "data": {
      "text/html": [
       "<div>\n",
       "<style scoped>\n",
       "    .dataframe tbody tr th:only-of-type {\n",
       "        vertical-align: middle;\n",
       "    }\n",
       "\n",
       "    .dataframe tbody tr th {\n",
       "        vertical-align: top;\n",
       "    }\n",
       "\n",
       "    .dataframe thead th {\n",
       "        text-align: right;\n",
       "    }\n",
       "</style>\n",
       "<table border=\"1\" class=\"dataframe\">\n",
       "  <thead>\n",
       "    <tr style=\"text-align: right;\">\n",
       "      <th></th>\n",
       "      <th>P-Value</th>\n",
       "      <th>Samples</th>\n",
       "      <th>Test Statistic</th>\n",
       "    </tr>\n",
       "  </thead>\n",
       "  <tbody>\n",
       "    <tr>\n",
       "      <th>0</th>\n",
       "      <td>0.090166</td>\n",
       "      <td>64</td>\n",
       "      <td>0.967975</td>\n",
       "    </tr>\n",
       "  </tbody>\n",
       "</table>\n",
       "</div>"
      ],
      "text/plain": [
       "    P-Value  Samples  Test Statistic\n",
       "0  0.090166       64        0.967975"
      ]
     },
     "execution_count": 48,
     "metadata": {},
     "output_type": "execute_result"
    }
   ],
   "source": [
    "#test for women\n",
    "shapiro_results = scipy.stats.shapiro(women['temperature'])\n",
    "\n",
    "summaryDf = pd.DataFrame({'Samples': len(women['temperature']) - 1, \\\n",
    "                          'Test Statistic':shapiro_results[0], \\\n",
    "                          'P-Value': shapiro_results[1]}, index = [0])\n",
    "\n",
    "summaryDf"
   ]
  },
  {
   "cell_type": "markdown",
   "metadata": {},
   "source": [
    "Our Null hypothesis was that the population is normally distributed. As our P-value is higher than our chosen p-value of .05, we fail to reject the null hypothesis that the population is normally distributed.\n",
    "\n",
    "**Conclusion:** The distribution is approximately normal."
   ]
  },
  {
   "cell_type": "markdown",
   "metadata": {},
   "source": [
    "## 2. Is the Sample Size Large? Are the observations independent? "
   ]
  },
  {
   "cell_type": "code",
   "execution_count": 49,
   "metadata": {},
   "outputs": [
    {
     "data": {
      "text/plain": [
       "98.24923076923078"
      ]
     },
     "execution_count": 49,
     "metadata": {},
     "output_type": "execute_result"
    }
   ],
   "source": [
    "df['temperature'].mean()"
   ]
  },
  {
   "cell_type": "markdown",
   "metadata": {},
   "source": [
    "Sample sizes above 30 are generally considered large enough for the CLT to apply. Even if we split the We also noted above that the distribution is approximately normal, and that our sample mean is reasonably close to the population mean of 98.6. As such, we can be comfortable that the sample size is large enough for analysis. \n",
    "\n",
    "**Conclusion:** The sample size is large enough for our analysis."
   ]
  },
  {
   "cell_type": "markdown",
   "metadata": {},
   "source": [
    "## 3. Is the true population mean really 98.6 degrees F? "
   ]
  },
  {
   "cell_type": "markdown",
   "metadata": {},
   "source": [
    "Our null hypothesis is that the mean body temperature for human beings is 98.6 degrees."
   ]
  },
  {
   "cell_type": "markdown",
   "metadata": {},
   "source": [
    "**Bootstrap Method Test:**"
   ]
  },
  {
   "cell_type": "markdown",
   "metadata": {},
   "source": [
    "Our bootstrap will answer the following question -- could we have obtained the dataset we did, if the true population mean is equal to the Wunderlich mean of 98.6 degrees and not 98.2 degrees (as calculated above). We will therefore simulate a situation in which the true mean body temperature is equal to 98.6. We will take the following steps:\n",
    "\n",
    " 1. Shift our data to match the Wunderlich mean.\n",
    " 2. Our **test statistic** is the bootstrap mean minus Wunderlich's mean.\n",
    " 3. Then we will use a function to draw bootstrap replicates of this mean deviation.\n",
    " 4. Calculate a p-value - the fraction of bootstrap replicates that are less than the observed test statistic.\n",
    " \n",
    "This is a **one-sample** test because we are comparing one set of data to a single number."
   ]
  },
  {
   "cell_type": "code",
   "execution_count": 50,
   "metadata": {},
   "outputs": [],
   "source": [
    "import numpy as np\n",
    "\n",
    "#generate functions for anlysis\n",
    "\n",
    "#generate replicate function\n",
    "def bootstrap_replicate_1d(data, func):\n",
    "    bs_sample = np.random.choice(data, len(data))\n",
    "    return func(bs_sample)\n",
    "\n",
    "#draw replicates function\n",
    "def draw_bs_reps(data, func, size=1):\n",
    "    \"\"\"Draw bootstrap replicates.\"\"\"\n",
    "\n",
    "    # Initialize array of replicates: bs_replicates\n",
    "    bs_replicates = np.empty(size)\n",
    "\n",
    "    # Generate replicates\n",
    "    for i in range(size):\n",
    "        bs_replicates[i] = bootstrap_replicate_1d(data, func)\n",
    "\n",
    "    return bs_replicates\n",
    "\n",
    "#calculatetemp difference\n",
    "def tempDiff(data, wunderlich = 98.6):\n",
    "    \"\"\"Difference in means of two arrays.\"\"\"\n",
    "\n",
    "    # The difference of means of data_1, data_2: diff\n",
    "    diff = np.mean(data) - wunderlich\n",
    "\n",
    "    return diff\n",
    "\n",
    "def meanDiff(data_1, data_2):\n",
    "    \"\"\"Difference in means of two arrays.\"\"\"\n",
    "\n",
    "    # The difference of means of data_1, data_2: diff\n",
    "    diff = np.mean(data_1) - np.mean(data_2)\n",
    "\n",
    "    return diff"
   ]
  },
  {
   "cell_type": "code",
   "execution_count": 51,
   "metadata": {},
   "outputs": [
    {
     "name": "stdout",
     "output_type": "stream",
     "text": [
      "p =  0.0 test stat: -0.35076923076921673\n"
     ]
    }
   ],
   "source": [
    "#Execute Test\n",
    "\n",
    "#1. Shift our data to match the Wunderlich Mean\n",
    "df['rateShift'] = df['temperature'] - np.mean(df['temperature']) + 98.6\n",
    "\n",
    "#2. Calculate Test statitic\n",
    "testStat = tempDiff(df['temperature'])\n",
    "\n",
    "#3. Use a function to draw bootstrap replicates of this mean deviation.\n",
    "bs_replicates = draw_bs_reps(df['rateShift'], tempDiff, 100000)\n",
    "\n",
    "#4. Calculate p-value - proportion of data equal to or less than observed difference\n",
    "p = np.sum(bs_replicates <= testStat) / 100000\n",
    "\n",
    "# Print the p-value\n",
    "print('p = ', p, 'test stat:', testStat)"
   ]
  },
  {
   "cell_type": "markdown",
   "metadata": {},
   "source": [
    "We found that none of our bootstrap sample populations showed a mean deviation less than or equal to our test statistic of -.35. As such, we can reject the null hypothesis that our mean temperature is 98.6 degrees for this population."
   ]
  },
  {
   "cell_type": "markdown",
   "metadata": {},
   "source": [
    "**Frequentist Test**\n",
    "\n",
    "We will perform a z-test and a t-test to assess whether our population mean is statisticall different from 98.6. As our sample size is greater than 30, a z-test is generally thought of as more appropriate in this situation."
   ]
  },
  {
   "cell_type": "code",
   "execution_count": 52,
   "metadata": {},
   "outputs": [
    {
     "name": "stdout",
     "output_type": "stream",
     "text": [
      "p =  4.9021570141012155e-08 test stat: -5.4548232923645195\n"
     ]
    }
   ],
   "source": [
    "#ztest\n",
    "import statsmodels.api as sm\n",
    "\n",
    "testStat, p = sm.stats.ztest(x1 = df['temperature'], x2 = None, \\\n",
    "                             value = 98.6, alternative = 'two-sided')\n",
    "\n",
    "print('p = ', p, 'test stat:', testStat)"
   ]
  },
  {
   "cell_type": "markdown",
   "metadata": {},
   "source": [
    "**Conclusion:** As our p-value is below .05, we reject our null hypothesis that the population mean is equal to 98.6 degrees."
   ]
  },
  {
   "cell_type": "code",
   "execution_count": 53,
   "metadata": {},
   "outputs": [
    {
     "name": "stdout",
     "output_type": "stream",
     "text": [
      "p =  2.4106320415561276e-07 test stat: -5.4548232923645195\n"
     ]
    }
   ],
   "source": [
    "#ttest\n",
    "from scipy import stats\n",
    "\n",
    "testStat, p =stats.ttest_1samp(df['temperature'], 98.6)\n",
    "\n",
    "print('p = ', p, 'test stat:', testStat)"
   ]
  },
  {
   "cell_type": "markdown",
   "metadata": {},
   "source": [
    "**Conclusion:** As our p-value is below .05, we reject our null hypothesis that the population mean is equal to 98.6 degrees."
   ]
  },
  {
   "cell_type": "markdown",
   "metadata": {},
   "source": [
    " ## 4. Draw a small sample of size 10 from the data and repeat both frequentist tests. \n",
    " \n",
    " An t-test is considered preferable in this situation because the sample size is less than 30.\n"
   ]
  },
  {
   "cell_type": "code",
   "execution_count": 54,
   "metadata": {},
   "outputs": [],
   "source": [
    "sample = df.sample(10)"
   ]
  },
  {
   "cell_type": "code",
   "execution_count": 55,
   "metadata": {},
   "outputs": [
    {
     "name": "stdout",
     "output_type": "stream",
     "text": [
      "p =  0.004114121292699342 test stat: -2.8692763818330453\n"
     ]
    }
   ],
   "source": [
    "#ztest\n",
    "import statsmodels.api as sm\n",
    "\n",
    "testStat, p = sm.stats.ztest(x1 = sample['temperature'], x2 = None, \\\n",
    "                             value = 98.6, alternative = 'two-sided')\n",
    "\n",
    "print('p = ', p, 'test stat:', testStat)"
   ]
  },
  {
   "cell_type": "code",
   "execution_count": 56,
   "metadata": {},
   "outputs": [
    {
     "name": "stdout",
     "output_type": "stream",
     "text": [
      "p =  0.01849850428338945 test stat: -2.8692763818330453\n"
     ]
    }
   ],
   "source": [
    "#ttest\n",
    "from scipy import stats\n",
    "\n",
    "testStat, p =stats.ttest_1samp(sample['temperature'], 98.6)\n",
    "\n",
    "print('p = ', p, 'test stat:', testStat)"
   ]
  },
  {
   "cell_type": "markdown",
   "metadata": {},
   "source": [
    "**Conclusion:** As our p-value is below .05, we reject our null hypothesis using both the ztest and the t test. We note that our p-value is higher for the t test. The t-distribution assumes a fatter tailed distribution, which makes it less likely that we identify a given mean deviation as low probability."
   ]
  },
  {
   "cell_type": "markdown",
   "metadata": {},
   "source": [
    "**Bootstrapped**"
   ]
  },
  {
   "cell_type": "code",
   "execution_count": 57,
   "metadata": {},
   "outputs": [
    {
     "name": "stdout",
     "output_type": "stream",
     "text": [
      "A body temperature above  98.35384615384615 or below  98.14384615384616  is statistically abnormal\n"
     ]
    }
   ],
   "source": [
    "bs_replicates = draw_bs_reps(df['temperature'], np.mean, 100000)\n",
    "print('A body temperature above ', np.percentile(bs_replicates, 95),\\\n",
    "      'or below ',  np.percentile(bs_replicates, 5), ' is statistically abnormal')"
   ]
  },
  {
   "cell_type": "markdown",
   "metadata": {},
   "source": [
    "**Frequentist:**"
   ]
  },
  {
   "cell_type": "code",
   "execution_count": 58,
   "metadata": {},
   "outputs": [],
   "source": [
    "def meanConfidenceInterval(data, confidence=0.95):\n",
    "    a = 1.0*np.array(data)\n",
    "    n = len(a)\n",
    "    m, se = np.mean(a), scipy.stats.sem(a)\n",
    "    h = se * scipy.stats.t._ppf((1+confidence)/2., n-1)\n",
    "    return m-h, m+h"
   ]
  },
  {
   "cell_type": "code",
   "execution_count": 59,
   "metadata": {},
   "outputs": [
    {
     "data": {
      "text/plain": [
       "(98.12200290560801, 98.37645863285348)"
      ]
     },
     "execution_count": 59,
     "metadata": {},
     "output_type": "execute_result"
    }
   ],
   "source": [
    "meanConfidenceInterval(df['temperature'])"
   ]
  },
  {
   "cell_type": "code",
   "execution_count": 60,
   "metadata": {},
   "outputs": [
    {
     "data": {
      "text/plain": [
       "2      97.8\n",
       "5      99.2\n",
       "6      98.0\n",
       "7      98.8\n",
       "12     98.2\n",
       "17     98.2\n",
       "19     99.4\n",
       "21     98.2\n",
       "22     98.6\n",
       "23     98.4\n",
       "24     97.8\n",
       "29     98.1\n",
       "30     98.3\n",
       "32     98.5\n",
       "33     98.6\n",
       "34     99.3\n",
       "35     99.5\n",
       "36     99.1\n",
       "37     98.3\n",
       "41     98.4\n",
       "42     96.9\n",
       "43     97.2\n",
       "46     97.4\n",
       "47     97.4\n",
       "48     97.9\n",
       "49     97.1\n",
       "53     98.6\n",
       "57     98.2\n",
       "59     97.6\n",
       "61     98.4\n",
       "       ... \n",
       "73     98.8\n",
       "74     99.0\n",
       "75     98.8\n",
       "77     98.4\n",
       "78     97.4\n",
       "79     97.6\n",
       "81     98.0\n",
       "82     97.5\n",
       "85     97.1\n",
       "87     98.0\n",
       "88     98.7\n",
       "89     98.1\n",
       "90     97.8\n",
       "93     97.1\n",
       "94     97.8\n",
       "99     98.0\n",
       "100    99.0\n",
       "101    98.5\n",
       "104    97.6\n",
       "105    96.7\n",
       "106    97.0\n",
       "107    98.6\n",
       "109    97.3\n",
       "114    99.0\n",
       "115    98.0\n",
       "118    98.7\n",
       "124    97.5\n",
       "125    96.3\n",
       "126    97.7\n",
       "128    97.9\n",
       "Name: temperature, Length: 65, dtype: float64"
      ]
     },
     "execution_count": 60,
     "metadata": {},
     "output_type": "execute_result"
    }
   ],
   "source": [
    "df.loc[df['gender'] == 'M', 'temperature']"
   ]
  },
  {
   "cell_type": "code",
   "execution_count": 61,
   "metadata": {},
   "outputs": [
    {
     "name": "stdout",
     "output_type": "stream",
     "text": [
      "p-value = 0.9897\n"
     ]
    }
   ],
   "source": [
    "# Compute objects\n",
    "meanTemp = np.mean(df['temperature'])\n",
    "m = df.loc[df['gender'] == 'M', 'temperature']\n",
    "meanM = df.loc[df['gender'] == 'M', 'temperature'].mean()\n",
    "w = df.loc[df['gender'] == 'F', 'temperature']\n",
    "meanW = df.loc[df['gender'] == 'F', 'temperature'].mean()\n",
    "meanDiffs = meanDiff(m, w)\n",
    "\n",
    "# Generate shifted arrays\n",
    "menShifted = m - meanM + meanTemp\n",
    "womenShifted = w - meanW + meanTemp\n",
    "\n",
    "# Compute 10,000 bootstrap replicates from shifted arrays\n",
    "bs_replicates_m = draw_bs_reps(menShifted, np.mean, 10000)\n",
    "bs_replicates_w = draw_bs_reps(womenShifted, np.mean, 10000)\n",
    "\n",
    "# Get replicates of difference of means: bs_replicates\n",
    "bs_replicates = bs_replicates_m - bs_replicates_w\n",
    "\n",
    "# Compute and print p-value: p\n",
    "p = np.sum(bs_replicates > meanDiffs) / 10000\n",
    "print('p-value =', p)\n"
   ]
  },
  {
   "cell_type": "markdown",
   "metadata": {},
   "source": [
    "**Conclusion:** There is not a statistically significant difference between male and female body temperature."
   ]
  }
 ],
 "metadata": {
  "kernelspec": {
   "display_name": "Python 3",
   "language": "python",
   "name": "python3"
  },
  "language_info": {
   "codemirror_mode": {
    "name": "ipython",
    "version": 3
   },
   "file_extension": ".py",
   "mimetype": "text/x-python",
   "name": "python",
   "nbconvert_exporter": "python",
   "pygments_lexer": "ipython3",
   "version": "3.6.4"
  }
 },
 "nbformat": 4,
 "nbformat_minor": 1
}
